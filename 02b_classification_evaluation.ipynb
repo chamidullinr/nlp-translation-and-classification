{
 "cells": [
  {
   "cell_type": "markdown",
   "id": "7941bf84",
   "metadata": {},
   "source": [
    "# 02b - Evaluate Classification Scores of Fine-tuned DistilBERT"
   ]
  },
  {
   "cell_type": "code",
   "execution_count": 1,
   "id": "a53d9966",
   "metadata": {},
   "outputs": [
    {
     "name": "stdout",
     "output_type": "stream",
     "text": [
      "Device: cuda\n"
     ]
    }
   ],
   "source": [
    "import numpy as np\n",
    "import pandas as pd\n",
    "\n",
    "import torch\n",
    "from datasets import load_dataset\n",
    "\n",
    "from src import data, models, metrics\n",
    "\n",
    "DATA_DIR = 'data/'\n",
    "OUTPUT_DIR = 'output/distilbert/'\n",
    "MODEL_NAME = 'distilbert_monitors_3epoch'\n",
    "CLASSES = ['Monitor', 'Tv', 'Noise']\n",
    "\n",
    "\n",
    "device = torch.device('cuda' if torch.cuda.is_available() else 'cpu')\n",
    "print(f'Device: {device}')"
   ]
  },
  {
   "cell_type": "markdown",
   "id": "002ee030",
   "metadata": {},
   "source": [
    "## Create DistilBERT model and tokenizer"
   ]
  },
  {
   "cell_type": "code",
   "execution_count": 2,
   "id": "6d2a7f6c",
   "metadata": {},
   "outputs": [],
   "source": [
    "# create model and load pre-trained checkpoint\n",
    "# use fine-tuned checkpoint\n",
    "net = models.DistilBERT(pretrained_checkpoint=OUTPUT_DIR + MODEL_NAME)"
   ]
  },
  {
   "cell_type": "code",
   "execution_count": 3,
   "id": "6616a844",
   "metadata": {},
   "outputs": [
    {
     "name": "stdout",
     "output_type": "stream",
     "text": [
      "Number of trainable parameters: 66,955,779\n"
     ]
    }
   ],
   "source": [
    "print(f'Number of trainable parameters: {net.num_trainable_params():,}')"
   ]
  },
  {
   "cell_type": "markdown",
   "id": "802f362f",
   "metadata": {},
   "source": [
    "## Example of Classification\n",
    "\n",
    "Classify one example to verify that the code executes without errors."
   ]
  },
  {
   "cell_type": "code",
   "execution_count": 4,
   "id": "97fbf998",
   "metadata": {},
   "outputs": [
    {
     "name": "stderr",
     "output_type": "stream",
     "text": [
      "Asking to truncate to max_length but no maximum length is provided and the model has no predefined maximum length. Default to no truncation.\n"
     ]
    },
    {
     "data": {
      "text/plain": [
       "[{'Monitor': 6.810817e-05, 'Tv': 4.9609378e-05, 'Noise': 0.9998822}]"
      ]
     },
     "execution_count": 4,
     "metadata": {},
     "output_type": "execute_result"
    }
   ],
   "source": [
    "x = '32 inch curved screen 144hz monitor 1k 2k 4k fhd ips curved lcd pc hd-mi power vga cable'\n",
    "net.predict_sample(x, return_dict=True)"
   ]
  },
  {
   "cell_type": "markdown",
   "id": "4ee4e30f",
   "metadata": {},
   "source": [
    "## Load the Data"
   ]
  },
  {
   "cell_type": "code",
   "execution_count": 5,
   "id": "ac23d6e2",
   "metadata": {},
   "outputs": [
    {
     "name": "stderr",
     "output_type": "stream",
     "text": [
      "Using custom data configuration default-c0d7b63d8a6cd083\n"
     ]
    },
    {
     "name": "stdout",
     "output_type": "stream",
     "text": [
      "Downloading and preparing dataset csv/default (download: Unknown size, generated: Unknown size, post-processed: Unknown size, total: Unknown size) to /home/ec2-user/.cache/huggingface/datasets/csv/default-c0d7b63d8a6cd083/0.0.0/e138af468cb14e747fb46a19c787ffcfa5170c821476d20d5304287ce12bbc23...\n"
     ]
    },
    {
     "data": {
      "application/vnd.jupyter.widget-view+json": {
       "model_id": "9835bbc1ab944f9991f7082c59d9cf99",
       "version_major": 2,
       "version_minor": 0
      },
      "text/plain": [
       "0 tables [00:00, ? tables/s]"
      ]
     },
     "metadata": {},
     "output_type": "display_data"
    },
    {
     "name": "stdout",
     "output_type": "stream",
     "text": [
      "Dataset csv downloaded and prepared to /home/ec2-user/.cache/huggingface/datasets/csv/default-c0d7b63d8a6cd083/0.0.0/e138af468cb14e747fb46a19c787ffcfa5170c821476d20d5304287ce12bbc23. Subsequent calls will reuse this data.\n"
     ]
    },
    {
     "data": {
      "application/vnd.jupyter.widget-view+json": {
       "model_id": "59611aea0db2401db729fe7ef7072ad2",
       "version_major": 2,
       "version_minor": 0
      },
      "text/plain": [
       "  0%|          | 0/28 [00:00<?, ?ba/s]"
      ]
     },
     "metadata": {},
     "output_type": "display_data"
    },
    {
     "data": {
      "text/plain": [
       "DatasetDict({\n",
       "    test: Dataset({\n",
       "        features: ['inp', 'trg', 'metadata'],\n",
       "        num_rows: 28000\n",
       "    })\n",
       "})"
      ]
     },
     "execution_count": 5,
     "metadata": {},
     "output_type": "execute_result"
    }
   ],
   "source": [
    "# load datasets\n",
    "datasets = load_dataset('csv', data_files={\n",
    "    # 'train': DATA_DIR + 'monitors_classification_202107_train.csv',\n",
    "    # 'validation': DATA_DIR + 'monitors_classification_202107_val.csv',\n",
    "    'test': DATA_DIR + 'monitors_classification_202107_test.csv'\n",
    "})\n",
    "\n",
    "# tokenize datasets\n",
    "tokenized_datasets = net.tokenize_dataset(datasets)\n",
    "\n",
    "datasets"
   ]
  },
  {
   "cell_type": "markdown",
   "id": "19b6ec67",
   "metadata": {},
   "source": [
    "## Evaluate the Results"
   ]
  },
  {
   "cell_type": "code",
   "execution_count": 6,
   "id": "0f55063e",
   "metadata": {},
   "outputs": [
    {
     "data": {
      "text/html": [
       "\n",
       "    <div>\n",
       "      \n",
       "      <progress value='438' max='438' style='width:300px; height:20px; vertical-align: middle;'></progress>\n",
       "      [438/438 02:45]\n",
       "    </div>\n",
       "    "
      ],
      "text/plain": [
       "<IPython.core.display.HTML object>"
      ]
     },
     "metadata": {},
     "output_type": "display_data"
    }
   ],
   "source": [
    "# get test predictions\n",
    "out = net.predict(tokenized_datasets['test'], bs=64, log_level='error')"
   ]
  },
  {
   "cell_type": "code",
   "execution_count": 7,
   "id": "d57dcccf",
   "metadata": {},
   "outputs": [
    {
     "data": {
      "text/plain": [
       "28000"
      ]
     },
     "execution_count": 7,
     "metadata": {},
     "output_type": "execute_result"
    }
   ],
   "source": [
    "# size of the test set\n",
    "len(tokenized_datasets['test'])"
   ]
  },
  {
   "cell_type": "markdown",
   "id": "982b4cfd",
   "metadata": {},
   "source": [
    "### Classification Report with Precision, Recall and F1-Score"
   ]
  },
  {
   "cell_type": "code",
   "execution_count": 8,
   "id": "aa1f47d6",
   "metadata": {},
   "outputs": [
    {
     "data": {
      "text/html": [
       "<div>\n",
       "<style scoped>\n",
       "    .dataframe tbody tr th:only-of-type {\n",
       "        vertical-align: middle;\n",
       "    }\n",
       "\n",
       "    .dataframe tbody tr th {\n",
       "        vertical-align: top;\n",
       "    }\n",
       "\n",
       "    .dataframe thead th {\n",
       "        text-align: right;\n",
       "    }\n",
       "</style>\n",
       "<table border=\"1\" class=\"dataframe\">\n",
       "  <thead>\n",
       "    <tr style=\"text-align: right;\">\n",
       "      <th></th>\n",
       "      <th>precision</th>\n",
       "      <th>recall</th>\n",
       "      <th>f1-score</th>\n",
       "      <th>support</th>\n",
       "    </tr>\n",
       "  </thead>\n",
       "  <tbody>\n",
       "    <tr>\n",
       "      <th>Monitor</th>\n",
       "      <td>0.988563</td>\n",
       "      <td>0.994826</td>\n",
       "      <td>0.991685</td>\n",
       "      <td>17203.000000</td>\n",
       "    </tr>\n",
       "    <tr>\n",
       "      <th>Tv</th>\n",
       "      <td>0.973225</td>\n",
       "      <td>0.984688</td>\n",
       "      <td>0.978923</td>\n",
       "      <td>3396.000000</td>\n",
       "    </tr>\n",
       "    <tr>\n",
       "      <th>Noise</th>\n",
       "      <td>0.982763</td>\n",
       "      <td>0.962978</td>\n",
       "      <td>0.972770</td>\n",
       "      <td>7401.000000</td>\n",
       "    </tr>\n",
       "    <tr>\n",
       "      <th>accuracy</th>\n",
       "      <td>0.985179</td>\n",
       "      <td>0.985179</td>\n",
       "      <td>0.985179</td>\n",
       "      <td>0.985179</td>\n",
       "    </tr>\n",
       "    <tr>\n",
       "      <th>macro avg</th>\n",
       "      <td>0.981517</td>\n",
       "      <td>0.980831</td>\n",
       "      <td>0.981126</td>\n",
       "      <td>28000.000000</td>\n",
       "    </tr>\n",
       "    <tr>\n",
       "      <th>weighted avg</th>\n",
       "      <td>0.985170</td>\n",
       "      <td>0.985179</td>\n",
       "      <td>0.985137</td>\n",
       "      <td>28000.000000</td>\n",
       "    </tr>\n",
       "  </tbody>\n",
       "</table>\n",
       "</div>"
      ],
      "text/plain": [
       "              precision    recall  f1-score       support\n",
       "Monitor        0.988563  0.994826  0.991685  17203.000000\n",
       "Tv             0.973225  0.984688  0.978923   3396.000000\n",
       "Noise          0.982763  0.962978  0.972770   7401.000000\n",
       "accuracy       0.985179  0.985179  0.985179      0.985179\n",
       "macro avg      0.981517  0.980831  0.981126  28000.000000\n",
       "weighted avg   0.985170  0.985179  0.985137  28000.000000"
      ]
     },
     "execution_count": 8,
     "metadata": {},
     "output_type": "execute_result"
    }
   ],
   "source": [
    "from sklearn.metrics import classification_report, confusion_matrix\n",
    "\n",
    "\n",
    "pd.DataFrame(classification_report(\n",
    "    out.label_ids,\n",
    "    out.predictions,\n",
    "    target_names=net.config.id2label.values(),\n",
    "    output_dict=True\n",
    ")).T"
   ]
  },
  {
   "cell_type": "markdown",
   "id": "3d7e1442",
   "metadata": {},
   "source": [
    "### Confusion Matrix"
   ]
  },
  {
   "cell_type": "code",
   "execution_count": 9,
   "id": "b834579a",
   "metadata": {},
   "outputs": [
    {
     "data": {
      "text/plain": [
       "<AxesSubplot:>"
      ]
     },
     "execution_count": 9,
     "metadata": {},
     "output_type": "execute_result"
    },
    {
     "data": {
      "image/png": "[encoded data removed]",
      "text/plain": [
       "<Figure size 432x288 with 2 Axes>"
      ]
     },
     "metadata": {
      "needs_background": "light"
     },
     "output_type": "display_data"
    }
   ],
   "source": [
    "import seaborn as sns\n",
    "\n",
    "\n",
    "cm = pd.DataFrame(\n",
    "    confusion_matrix(out.label_ids, out.predictions),\n",
    "    index=net.config.id2label.values(),\n",
    "    columns=net.config.id2label.values())\n",
    "sns.heatmap(cm, annot=True, fmt='d', cmap='Blues')"
   ]
  },
  {
   "cell_type": "markdown",
   "id": "186245cf",
   "metadata": {},
   "source": [
    "### Evaluate Error Records"
   ]
  },
  {
   "cell_type": "code",
   "execution_count": 10,
   "id": "136e2deb",
   "metadata": {},
   "outputs": [],
   "source": [
    "df = datasets['test'].to_pandas()\n",
    "df['pred'] = net.id2label(out.predictions)"
   ]
  },
  {
   "cell_type": "code",
   "execution_count": 11,
   "id": "6f40d750",
   "metadata": {},
   "outputs": [
    {
     "data": {
      "text/html": [
       "<div>\n",
       "<style scoped>\n",
       "    .dataframe tbody tr th:only-of-type {\n",
       "        vertical-align: middle;\n",
       "    }\n",
       "\n",
       "    .dataframe tbody tr th {\n",
       "        vertical-align: top;\n",
       "    }\n",
       "\n",
       "    .dataframe thead th {\n",
       "        text-align: right;\n",
       "    }\n",
       "</style>\n",
       "<table border=\"1\" class=\"dataframe\">\n",
       "  <thead>\n",
       "    <tr style=\"text-align: right;\">\n",
       "      <th></th>\n",
       "      <th>inp</th>\n",
       "      <th>trg</th>\n",
       "      <th>pred</th>\n",
       "    </tr>\n",
       "  </thead>\n",
       "  <tbody>\n",
       "    <tr>\n",
       "      <th>133</th>\n",
       "      <td>viewsonic value va2252sm_h2 22\" full hd led lc...</td>\n",
       "      <td>Noise</td>\n",
       "      <td>Monitor</td>\n",
       "    </tr>\n",
       "    <tr>\n",
       "      <th>247</th>\n",
       "      <td>monitor samsung mod ls19f355hnlxzx 18.5\"led/13...</td>\n",
       "      <td>Noise</td>\n",
       "      <td>Monitor</td>\n",
       "    </tr>\n",
       "    <tr>\n",
       "      <th>259</th>\n",
       "      <td>aoc g2490vx / g2490 23.8\" 144hz 1ms va fhd gam...</td>\n",
       "      <td>Noise</td>\n",
       "      <td>Monitor</td>\n",
       "    </tr>\n",
       "    <tr>\n",
       "      <th>297</th>\n",
       "      <td>sony kd49xg8096baep smart tv 49\" 4k ultra hd d...</td>\n",
       "      <td>Tv</td>\n",
       "      <td>Noise</td>\n",
       "    </tr>\n",
       "    <tr>\n",
       "      <th>404</th>\n",
       "      <td>telewizor tcl led 65dc760</td>\n",
       "      <td>Noise</td>\n",
       "      <td>Tv</td>\n",
       "    </tr>\n",
       "    <tr>\n",
       "      <th>...</th>\n",
       "      <td>...</td>\n",
       "      <td>...</td>\n",
       "      <td>...</td>\n",
       "    </tr>\n",
       "    <tr>\n",
       "      <th>27861</th>\n",
       "      <td>monitor led lenovo thinkvision sleeve m14 mobi...</td>\n",
       "      <td>Monitor</td>\n",
       "      <td>Noise</td>\n",
       "    </tr>\n",
       "    <tr>\n",
       "      <th>27905</th>\n",
       "      <td>telewizor gogen led tvh32r552stweb</td>\n",
       "      <td>Noise</td>\n",
       "      <td>Tv</td>\n",
       "    </tr>\n",
       "    <tr>\n",
       "      <th>27925</th>\n",
       "      <td>телевизор led hyundai 43\" h-led43es5004 metal ...</td>\n",
       "      <td>Noise</td>\n",
       "      <td>Tv</td>\n",
       "    </tr>\n",
       "    <tr>\n",
       "      <th>27988</th>\n",
       "      <td>telewizor hisense led h65b7100</td>\n",
       "      <td>Noise</td>\n",
       "      <td>Tv</td>\n",
       "    </tr>\n",
       "    <tr>\n",
       "      <th>27994</th>\n",
       "      <td>dell ultrasharp 24 infinityedge monitor u2417h...</td>\n",
       "      <td>Noise</td>\n",
       "      <td>Monitor</td>\n",
       "    </tr>\n",
       "  </tbody>\n",
       "</table>\n",
       "<p>415 rows × 3 columns</p>\n",
       "</div>"
      ],
      "text/plain": [
       "                                                     inp      trg     pred\n",
       "133    viewsonic value va2252sm_h2 22\" full hd led lc...    Noise  Monitor\n",
       "247    monitor samsung mod ls19f355hnlxzx 18.5\"led/13...    Noise  Monitor\n",
       "259    aoc g2490vx / g2490 23.8\" 144hz 1ms va fhd gam...    Noise  Monitor\n",
       "297    sony kd49xg8096baep smart tv 49\" 4k ultra hd d...       Tv    Noise\n",
       "404                            telewizor tcl led 65dc760    Noise       Tv\n",
       "...                                                  ...      ...      ...\n",
       "27861  monitor led lenovo thinkvision sleeve m14 mobi...  Monitor    Noise\n",
       "27905                 telewizor gogen led tvh32r552stweb    Noise       Tv\n",
       "27925  телевизор led hyundai 43\" h-led43es5004 metal ...    Noise       Tv\n",
       "27988                     telewizor hisense led h65b7100    Noise       Tv\n",
       "27994  dell ultrasharp 24 infinityedge monitor u2417h...    Noise  Monitor\n",
       "\n",
       "[415 rows x 3 columns]"
      ]
     },
     "execution_count": 11,
     "metadata": {},
     "output_type": "execute_result"
    }
   ],
   "source": [
    "df.loc[df['trg'] != df['pred'], ['inp', 'trg', 'pred']]"
   ]
  },
  {
   "cell_type": "markdown",
   "id": "6e91d416",
   "metadata": {},
   "source": [
    "#### False Positives"
   ]
  },
  {
   "cell_type": "code",
   "execution_count": 12,
   "id": "59fdffa1",
   "metadata": {},
   "outputs": [
    {
     "data": {
      "text/plain": [
       "'monitor samsung mod ls19f355hnlxzx 18.5\"led/1366x768/hd/slim/vga'"
      ]
     },
     "execution_count": 12,
     "metadata": {},
     "output_type": "execute_result"
    }
   ],
   "source": [
    "df['inp'].loc[247]"
   ]
  },
  {
   "cell_type": "code",
   "execution_count": 13,
   "id": "a09b62b2",
   "metadata": {},
   "outputs": [
    {
     "data": {
      "text/plain": [
       "'aoc g2490vx / g2490 23.8\" 144hz 1ms va fhd gaming monitor (hdmi 1.4x2, dp 1.2 x1)'"
      ]
     },
     "execution_count": 13,
     "metadata": {},
     "output_type": "execute_result"
    }
   ],
   "source": [
    "df['inp'].loc[259]"
   ]
  },
  {
   "cell_type": "code",
   "execution_count": 14,
   "id": "88f01cdc",
   "metadata": {},
   "outputs": [
    {
     "data": {
      "text/plain": [
       "'dell ultrasharp 24 infinityedge monitor u2417h | u2419h'"
      ]
     },
     "execution_count": 14,
     "metadata": {},
     "output_type": "execute_result"
    }
   ],
   "source": [
    "df['inp'].loc[27994]"
   ]
  },
  {
   "cell_type": "markdown",
   "id": "eade5e87",
   "metadata": {},
   "source": [
    "#### False Negatives"
   ]
  },
  {
   "cell_type": "code",
   "execution_count": 16,
   "id": "f5e3ab52",
   "metadata": {},
   "outputs": [
    {
     "data": {
      "text/plain": [
       "'monitor led lenovo thinkvision sleeve m14 mobile vision usb-c port'"
      ]
     },
     "execution_count": 16,
     "metadata": {},
     "output_type": "execute_result"
    }
   ],
   "source": [
    "df['inp'].loc[27861]"
   ]
  },
  {
   "cell_type": "code",
   "execution_count": 17,
   "id": "6e51d8e0",
   "metadata": {},
   "outputs": [
    {
     "data": {
      "text/plain": [
       "'抵抗膜方式タッチパネル採用 17型タッチパネル液晶ディスプレイ lcd-ad173sfb-t'"
      ]
     },
     "execution_count": 17,
     "metadata": {},
     "output_type": "execute_result"
    }
   ],
   "source": [
    "df['inp'].loc[483]"
   ]
  },
  {
   "cell_type": "code",
   "execution_count": null,
   "id": "9b230a2c",
   "metadata": {},
   "outputs": [],
   "source": []
  }
 ],
 "metadata": {
  "kernelspec": {
   "display_name": "conda_pytorch_latest_p36",
   "language": "python",
   "name": "conda_pytorch_latest_p36"
  },
  "language_info": {
   "codemirror_mode": {
    "name": "ipython",
    "version": 3
   },
   "file_extension": ".py",
   "mimetype": "text/x-python",
   "name": "python",
   "nbconvert_exporter": "python",
   "pygments_lexer": "ipython3",
   "version": "3.6.13"
  }
 },
 "nbformat": 4,
 "nbformat_minor": 5
}
