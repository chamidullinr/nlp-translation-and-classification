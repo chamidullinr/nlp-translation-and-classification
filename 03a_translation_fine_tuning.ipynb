{
 "cells": [
  {
   "cell_type": "markdown",
   "id": "819b23a9",
   "metadata": {},
   "source": [
    "# 03a - Fine-tune T5 for Sequence Translation"
   ]
  },
  {
   "cell_type": "code",
   "execution_count": 1,
   "id": "f036cd0e",
   "metadata": {},
   "outputs": [
    {
     "name": "stdout",
     "output_type": "stream",
     "text": [
      "Device: cuda\n"
     ]
    }
   ],
   "source": [
    "import numpy as np\n",
    "import pandas as pd\n",
    "\n",
    "import torch\n",
    "from datasets import load_dataset\n",
    "\n",
    "from src import data, models, metrics\n",
    "\n",
    "DATA_DIR = 'data/'\n",
    "OUTPUT_DIR = 'output/t5/'\n",
    "MODEL_NAME = 't5_monitors_printers_3epoch'\n",
    "\n",
    "\n",
    "device = torch.device('cuda' if torch.cuda.is_available() else 'cpu')\n",
    "print(f'Device: {device}')"
   ]
  },
  {
   "cell_type": "markdown",
   "id": "5ce619d8",
   "metadata": {},
   "source": [
    "## Create T5 Nodel with Tokenizer"
   ]
  },
  {
   "cell_type": "code",
   "execution_count": 2,
   "id": "3fc0803f",
   "metadata": {},
   "outputs": [
    {
     "data": {
      "application/vnd.jupyter.widget-view+json": {
       "model_id": "e8c79a2cd23446d39a8a041b45fcc4c0",
       "version_major": 2,
       "version_minor": 0
      },
      "text/plain": [
       "Downloading:   0%|          | 0.00/1.20k [00:00<?, ?B/s]"
      ]
     },
     "metadata": {},
     "output_type": "display_data"
    },
    {
     "data": {
      "application/vnd.jupyter.widget-view+json": {
       "model_id": "ceb6a0d95e8c45b6a69a38a49f3a78c6",
       "version_major": 2,
       "version_minor": 0
      },
      "text/plain": [
       "Downloading:   0%|          | 0.00/792k [00:00<?, ?B/s]"
      ]
     },
     "metadata": {},
     "output_type": "display_data"
    },
    {
     "data": {
      "application/vnd.jupyter.widget-view+json": {
       "model_id": "13237a35101d4093877a3fb7c5848816",
       "version_major": 2,
       "version_minor": 0
      },
      "text/plain": [
       "Downloading:   0%|          | 0.00/1.39M [00:00<?, ?B/s]"
      ]
     },
     "metadata": {},
     "output_type": "display_data"
    },
    {
     "data": {
      "application/vnd.jupyter.widget-view+json": {
       "model_id": "7644eaff913f4623bb022d3755785e99",
       "version_major": 2,
       "version_minor": 0
      },
      "text/plain": [
       "Downloading:   0%|          | 0.00/242M [00:00<?, ?B/s]"
      ]
     },
     "metadata": {},
     "output_type": "display_data"
    }
   ],
   "source": [
    "# create model and load pre-trained checkpoint\n",
    "net = models.T5(pretrained_checkpoint='t5-small')"
   ]
  },
  {
   "cell_type": "code",
   "execution_count": 3,
   "id": "86d06207",
   "metadata": {},
   "outputs": [
    {
     "name": "stdout",
     "output_type": "stream",
     "text": [
      "Number of trainable parameters: 60,506,624\n"
     ]
    }
   ],
   "source": [
    "print(f'Number of trainable parameters: {net.num_trainable_params():,}')"
   ]
  },
  {
   "cell_type": "markdown",
   "id": "5b72db01",
   "metadata": {},
   "source": [
    "## Example of Translation"
   ]
  },
  {
   "cell_type": "code",
   "execution_count": 4,
   "id": "4f81e26f",
   "metadata": {},
   "outputs": [
    {
     "data": {
      "text/plain": [
       "'Das Haus ist wunderbar.'"
      ]
     },
     "execution_count": 4,
     "metadata": {},
     "output_type": "execute_result"
    }
   ],
   "source": [
    "net.predict_sample('translate English to German: The house is wonderful.')"
   ]
  },
  {
   "cell_type": "code",
   "execution_count": 5,
   "id": "61c77f22",
   "metadata": {},
   "outputs": [
    {
     "data": {
      "text/plain": [
       "'La maison est merveilleuse.'"
      ]
     },
     "execution_count": 5,
     "metadata": {},
     "output_type": "execute_result"
    }
   ],
   "source": [
    "net.predict_sample('translate English to French: The house is wonderful.')"
   ]
  },
  {
   "cell_type": "markdown",
   "id": "b498949c",
   "metadata": {},
   "source": [
    "## Load the Data"
   ]
  },
  {
   "cell_type": "code",
   "execution_count": 6,
   "id": "058d2283",
   "metadata": {},
   "outputs": [
    {
     "name": "stderr",
     "output_type": "stream",
     "text": [
      "Using custom data configuration default-6727cc1724fb7c7f\n"
     ]
    },
    {
     "name": "stdout",
     "output_type": "stream",
     "text": [
      "Downloading and preparing dataset csv/default (download: Unknown size, generated: Unknown size, post-processed: Unknown size, total: Unknown size) to /home/ec2-user/.cache/huggingface/datasets/csv/default-6727cc1724fb7c7f/0.0.0/e138af468cb14e747fb46a19c787ffcfa5170c821476d20d5304287ce12bbc23...\n"
     ]
    },
    {
     "data": {
      "application/vnd.jupyter.widget-view+json": {
       "model_id": "1dfa55bc18044abdb025d3c72039bb67",
       "version_major": 2,
       "version_minor": 0
      },
      "text/plain": [
       "0 tables [00:00, ? tables/s]"
      ]
     },
     "metadata": {},
     "output_type": "display_data"
    },
    {
     "data": {
      "application/vnd.jupyter.widget-view+json": {
       "model_id": "3a727f70636c42e7b6362ca4c4b79525",
       "version_major": 2,
       "version_minor": 0
      },
      "text/plain": [
       "0 tables [00:00, ? tables/s]"
      ]
     },
     "metadata": {},
     "output_type": "display_data"
    },
    {
     "name": "stderr",
     "output_type": "stream",
     "text": [
      "Using custom data configuration default-11305636ba3651e9\n"
     ]
    },
    {
     "name": "stdout",
     "output_type": "stream",
     "text": [
      "Dataset csv downloaded and prepared to /home/ec2-user/.cache/huggingface/datasets/csv/default-6727cc1724fb7c7f/0.0.0/e138af468cb14e747fb46a19c787ffcfa5170c821476d20d5304287ce12bbc23. Subsequent calls will reuse this data.\n",
      "Downloading and preparing dataset csv/default (download: Unknown size, generated: Unknown size, post-processed: Unknown size, total: Unknown size) to /home/ec2-user/.cache/huggingface/datasets/csv/default-11305636ba3651e9/0.0.0/e138af468cb14e747fb46a19c787ffcfa5170c821476d20d5304287ce12bbc23...\n"
     ]
    },
    {
     "data": {
      "application/vnd.jupyter.widget-view+json": {
       "model_id": "25a8007ef86d4f5096777aa30cbcebfb",
       "version_major": 2,
       "version_minor": 0
      },
      "text/plain": [
       "0 tables [00:00, ? tables/s]"
      ]
     },
     "metadata": {},
     "output_type": "display_data"
    },
    {
     "data": {
      "application/vnd.jupyter.widget-view+json": {
       "model_id": "b27be17d36474cb79455b75571718eb7",
       "version_major": 2,
       "version_minor": 0
      },
      "text/plain": [
       "0 tables [00:00, ? tables/s]"
      ]
     },
     "metadata": {},
     "output_type": "display_data"
    },
    {
     "name": "stdout",
     "output_type": "stream",
     "text": [
      "Dataset csv downloaded and prepared to /home/ec2-user/.cache/huggingface/datasets/csv/default-11305636ba3651e9/0.0.0/e138af468cb14e747fb46a19c787ffcfa5170c821476d20d5304287ce12bbc23. Subsequent calls will reuse this data.\n"
     ]
    },
    {
     "data": {
      "application/vnd.jupyter.widget-view+json": {
       "model_id": "3e503741475a4ace8de0906bc1f105cc",
       "version_major": 2,
       "version_minor": 0
      },
      "text/plain": [
       "  0%|          | 0/80 [00:00<?, ?ba/s]"
      ]
     },
     "metadata": {},
     "output_type": "display_data"
    },
    {
     "data": {
      "application/vnd.jupyter.widget-view+json": {
       "model_id": "cb5b8f0983aa4da5bd82e3c00c0bd220",
       "version_major": 2,
       "version_minor": 0
      },
      "text/plain": [
       "  0%|          | 0/5 [00:00<?, ?ba/s]"
      ]
     },
     "metadata": {},
     "output_type": "display_data"
    },
    {
     "data": {
      "application/vnd.jupyter.widget-view+json": {
       "model_id": "7404baca9316470f9621cd02877c1919",
       "version_major": 2,
       "version_minor": 0
      },
      "text/plain": [
       "  0%|          | 0/80 [00:00<?, ?ba/s]"
      ]
     },
     "metadata": {},
     "output_type": "display_data"
    },
    {
     "data": {
      "application/vnd.jupyter.widget-view+json": {
       "model_id": "7c02f6f0d59d40c8bbf1fd659d411fe3",
       "version_major": 2,
       "version_minor": 0
      },
      "text/plain": [
       "  0%|          | 0/5 [00:00<?, ?ba/s]"
      ]
     },
     "metadata": {},
     "output_type": "display_data"
    },
    {
     "data": {
      "text/plain": [
       "DatasetDict({\n",
       "    train: Dataset({\n",
       "        features: ['inp', 'trg', 'metadata', 'type'],\n",
       "        num_rows: 160000\n",
       "    })\n",
       "    validation: Dataset({\n",
       "        features: ['inp', 'trg', 'metadata', 'type'],\n",
       "        num_rows: 10000\n",
       "    })\n",
       "})"
      ]
     },
     "execution_count": 6,
     "metadata": {},
     "output_type": "execute_result"
    }
   ],
   "source": [
    "# load datasets\n",
    "monitors = load_dataset('csv', data_files={\n",
    "    'train': DATA_DIR + 'monitors_translation_202107_train.csv',\n",
    "    'validation': DATA_DIR + 'monitors_translation_202107_val.csv',\n",
    "    # 'test': DATA_DIR + 'monitors_translation_202107_test.csv'\n",
    "})\n",
    "monitors = data.add_column(monitors, name='type', value='monitors')\n",
    "printers = load_dataset('csv', data_files={\n",
    "    'train': DATA_DIR + 'printers_translation_202107_train.csv',\n",
    "    'validation': DATA_DIR + 'printers_translation_202107_val.csv',\n",
    "    # 'test': DATA_DIR + 'printers_translation_202107_test.csv'\n",
    "})\n",
    "printers = data.add_column(printers, name='type', value='printers')\n",
    "datasets = data.concat_datasets(monitors, printers)\n",
    "\n",
    "\n",
    "# tokenize datasets\n",
    "tokenized_monitors = net.tokenize_dataset(monitors, prefix='Clean Monitors:')\n",
    "tokenized_printers = net.tokenize_dataset(printers, prefix='Clean Printers:')\n",
    "tokenized_datasets = data.concat_datasets(tokenized_monitors, tokenized_printers)\n",
    "\n",
    "datasets"
   ]
  },
  {
   "cell_type": "markdown",
   "id": "e5dfc674",
   "metadata": {},
   "source": [
    "## Fine-tune the Model"
   ]
  },
  {
   "cell_type": "code",
   "execution_count": 7,
   "id": "622f9179",
   "metadata": {},
   "outputs": [],
   "source": [
    "# create trainer instance\n",
    "trainer = net.get_trainer(\n",
    "    output_dir=OUTPUT_DIR,\n",
    "    train_dataset=tokenized_datasets['train'],\n",
    "    eval_dataset=tokenized_datasets['validation'],\n",
    "    no_epochs=3,\n",
    "    bs=32,\n",
    "    gradient_accumulation_steps=2,\n",
    "    lr=0.001,\n",
    "    wd=0.01,\n",
    "    lr_scheduler_type='linear',\n",
    "    fp16=False,\n",
    "    compute_metrics_cb=metrics.TranslationMetricsCallback(tokenizer=net.tokenizer),\n",
    "    log_level='error')"
   ]
  },
  {
   "cell_type": "code",
   "execution_count": 8,
   "id": "2344f5bb",
   "metadata": {},
   "outputs": [
    {
     "data": {
      "text/html": [
       "\n",
       "    <div>\n",
       "      \n",
       "      <progress value='7500' max='7500' style='width:300px; height:20px; vertical-align: middle;'></progress>\n",
       "      [7500/7500 1:51:58, Epoch 3/3]\n",
       "    </div>\n",
       "    <table border=\"1\" class=\"dataframe\">\n",
       "  <thead>\n",
       "    <tr style=\"text-align: left;\">\n",
       "      <th>Epoch</th>\n",
       "      <th>Training Loss</th>\n",
       "      <th>Validation Loss</th>\n",
       "      <th>Text Accuracy</th>\n",
       "      <th>Levenshtein Score</th>\n",
       "      <th>Jaccard Index</th>\n",
       "    </tr>\n",
       "  </thead>\n",
       "  <tbody>\n",
       "    <tr>\n",
       "      <td>1</td>\n",
       "      <td>0.044200</td>\n",
       "      <td>0.037399</td>\n",
       "      <td>0.898600</td>\n",
       "      <td>0.978090</td>\n",
       "      <td>0.956603</td>\n",
       "    </tr>\n",
       "    <tr>\n",
       "      <td>2</td>\n",
       "      <td>0.027100</td>\n",
       "      <td>0.026672</td>\n",
       "      <td>0.933000</td>\n",
       "      <td>0.985622</td>\n",
       "      <td>0.970698</td>\n",
       "    </tr>\n",
       "    <tr>\n",
       "      <td>3</td>\n",
       "      <td>0.018600</td>\n",
       "      <td>0.023050</td>\n",
       "      <td>0.944200</td>\n",
       "      <td>0.987529</td>\n",
       "      <td>0.975510</td>\n",
       "    </tr>\n",
       "  </tbody>\n",
       "</table><p>"
      ],
      "text/plain": [
       "<IPython.core.display.HTML object>"
      ]
     },
     "metadata": {},
     "output_type": "display_data"
    }
   ],
   "source": [
    "# train the network\n",
    "training_output = trainer.train()"
   ]
  },
  {
   "cell_type": "code",
   "execution_count": 9,
   "id": "bfa0d60d",
   "metadata": {},
   "outputs": [
    {
     "data": {
      "text/plain": [
       "T5(t5-small)"
      ]
     },
     "execution_count": 9,
     "metadata": {},
     "output_type": "execute_result"
    }
   ],
   "source": [
    "# save fine-tuned checkpoint\n",
    "net.save_pretrained(OUTPUT_DIR + MODEL_NAME)"
   ]
  },
  {
   "cell_type": "code",
   "execution_count": null,
   "id": "f667b530",
   "metadata": {},
   "outputs": [],
   "source": []
  }
 ],
 "metadata": {
  "kernelspec": {
   "display_name": "conda_pytorch_latest_p36",
   "language": "python",
   "name": "conda_pytorch_latest_p36"
  },
  "language_info": {
   "codemirror_mode": {
    "name": "ipython",
    "version": 3
   },
   "file_extension": ".py",
   "mimetype": "text/x-python",
   "name": "python",
   "nbconvert_exporter": "python",
   "pygments_lexer": "ipython3",
   "version": "3.6.13"
  }
 },
 "nbformat": 4,
 "nbformat_minor": 5
}
